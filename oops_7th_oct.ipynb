{
  "cells": [
    {
      "cell_type": "code",
      "execution_count": null,
      "id": "8b6a7b1a-3ff5-4b22-be3e-d3b2d7aa7e3a",
      "metadata": {
        "id": "8b6a7b1a-3ff5-4b22-be3e-d3b2d7aa7e3a"
      },
      "outputs": [],
      "source": [
        "class a :\n",
        "\n",
        "    def test(self):\n",
        "        print(\"this test method is a part of class a\")\n",
        "\n",
        "    def test1(self):\n",
        "        print(\"this is test1 from class a \")"
      ]
    },
    {
      "cell_type": "code",
      "execution_count": null,
      "id": "8e4d306f-fdb4-47a0-a93d-597f5b21d30b",
      "metadata": {
        "id": "8e4d306f-fdb4-47a0-a93d-597f5b21d30b"
      },
      "outputs": [],
      "source": [
        "obj_a = a()"
      ]
    },
    {
      "cell_type": "code",
      "execution_count": null,
      "id": "81ef5597-cf96-4ed9-a4f6-21e2e93aca70",
      "metadata": {
        "id": "81ef5597-cf96-4ed9-a4f6-21e2e93aca70",
        "outputId": "71b3500a-6853-49da-dd74-e9b5a5c82ae5"
      },
      "outputs": [
        {
          "name": "stdout",
          "output_type": "stream",
          "text": [
            "this test method is a part of class a\n"
          ]
        }
      ],
      "source": [
        "obj_a.test()"
      ]
    },
    {
      "cell_type": "code",
      "execution_count": null,
      "id": "11ee63d6-433d-48dc-ada0-5dd6771310ba",
      "metadata": {
        "id": "11ee63d6-433d-48dc-ada0-5dd6771310ba"
      },
      "outputs": [],
      "source": [
        "class b(a) :\n",
        "    def test1b(self):\n",
        "        print(\"this is a part of class b \")"
      ]
    },
    {
      "cell_type": "code",
      "execution_count": null,
      "id": "badaedfe-57d1-43c6-9193-e5afb0f31dbc",
      "metadata": {
        "id": "badaedfe-57d1-43c6-9193-e5afb0f31dbc"
      },
      "outputs": [],
      "source": [
        "obj_b = b()"
      ]
    },
    {
      "cell_type": "code",
      "execution_count": null,
      "id": "3ce19f61-ba8e-4050-9d4d-614adfd964c5",
      "metadata": {
        "id": "3ce19f61-ba8e-4050-9d4d-614adfd964c5",
        "outputId": "74c55eac-4579-4877-b436-4c6d734b6dbd"
      },
      "outputs": [
        {
          "name": "stdout",
          "output_type": "stream",
          "text": [
            "this test method is a part of class a\n"
          ]
        }
      ],
      "source": [
        "obj_b.test()"
      ]
    },
    {
      "cell_type": "code",
      "execution_count": null,
      "id": "5e473fae-e094-4407-99df-16a04ab4c80a",
      "metadata": {
        "id": "5e473fae-e094-4407-99df-16a04ab4c80a",
        "outputId": "394eeabc-755f-411f-b62b-90b0a0a56fe0"
      },
      "outputs": [
        {
          "name": "stdout",
          "output_type": "stream",
          "text": [
            "this is test1 from class a \n"
          ]
        }
      ],
      "source": [
        "obj_b.test1()"
      ]
    },
    {
      "cell_type": "code",
      "execution_count": null,
      "id": "02a8f055-535f-4bc2-adc1-575445f82570",
      "metadata": {
        "id": "02a8f055-535f-4bc2-adc1-575445f82570"
      },
      "outputs": [],
      "source": [
        "obj_b."
      ]
    },
    {
      "cell_type": "code",
      "execution_count": null,
      "id": "59361cd3-c0c4-4ddd-abac-cbe3275ade5f",
      "metadata": {
        "id": "59361cd3-c0c4-4ddd-abac-cbe3275ade5f"
      },
      "outputs": [],
      "source": [
        "class lecture:\n",
        "\n",
        "    def topic(self):\n",
        "        print(\"todays class we are discussing about inheritance condept in oops\")\n",
        "\n",
        "    def timing(self):\n",
        "        print(\"timing for todays class is 9 AM IST\")\n",
        "\n",
        "    def end_time(self):\n",
        "        print(\"today i will try to end class bit early\")"
      ]
    },
    {
      "cell_type": "code",
      "execution_count": null,
      "id": "6e3dd2de-883e-4e9e-98a0-4a7089af1627",
      "metadata": {
        "id": "6e3dd2de-883e-4e9e-98a0-4a7089af1627"
      },
      "outputs": [],
      "source": [
        "class student(lecture):\n",
        "\n",
        "    def student_details(self):\n",
        "        print(\"this class will give you a student details\")"
      ]
    },
    {
      "cell_type": "code",
      "execution_count": null,
      "id": "c2ad2a89-0f29-4410-86c4-e33f47b4186d",
      "metadata": {
        "id": "c2ad2a89-0f29-4410-86c4-e33f47b4186d"
      },
      "outputs": [],
      "source": [
        "naval = student()"
      ]
    },
    {
      "cell_type": "code",
      "execution_count": null,
      "id": "38c86e7f-5560-464a-b597-c88a74819f1a",
      "metadata": {
        "id": "38c86e7f-5560-464a-b597-c88a74819f1a",
        "outputId": "6c9126a5-3bc8-47a1-d210-eabd43db6f8c"
      },
      "outputs": [
        {
          "name": "stdout",
          "output_type": "stream",
          "text": [
            "todays class we are discussing about inheritance condept in oops\n"
          ]
        }
      ],
      "source": [
        "naval.topic()"
      ]
    },
    {
      "cell_type": "code",
      "execution_count": null,
      "id": "02efc8a4-f995-4f85-87d2-620ccc0f61fa",
      "metadata": {
        "id": "02efc8a4-f995-4f85-87d2-620ccc0f61fa",
        "outputId": "b6cd301b-4a5d-459f-9533-79c4cb131bd9"
      },
      "outputs": [
        {
          "name": "stdout",
          "output_type": "stream",
          "text": [
            "timing for todays class is 9 AM IST\n"
          ]
        }
      ],
      "source": [
        "satish = student()\n",
        "satish.timing()"
      ]
    },
    {
      "cell_type": "code",
      "execution_count": null,
      "id": "03932972-a58b-46e5-a3f8-ffc43c84ce53",
      "metadata": {
        "id": "03932972-a58b-46e5-a3f8-ffc43c84ce53"
      },
      "outputs": [],
      "source": [
        "class teacher(student):\n",
        "    def details(self):\n",
        "        print(\"this will give you a details about teacher\")"
      ]
    },
    {
      "cell_type": "code",
      "execution_count": null,
      "id": "fff36c1b-f1e9-467e-b29f-c304aa9feec9",
      "metadata": {
        "id": "fff36c1b-f1e9-467e-b29f-c304aa9feec9",
        "outputId": "04d3e22b-d882-4b2f-e078-fb45efa088e4"
      },
      "outputs": [
        {
          "name": "stdout",
          "output_type": "stream",
          "text": [
            "timing for todays class is 9 AM IST\n"
          ]
        }
      ],
      "source": [
        "sudh = teacher()\n",
        "sudh.timing()"
      ]
    },
    {
      "cell_type": "code",
      "execution_count": null,
      "id": "a5e8c94b-de62-4ef5-8eba-81259d83dd3d",
      "metadata": {
        "id": "a5e8c94b-de62-4ef5-8eba-81259d83dd3d"
      },
      "outputs": [],
      "source": [
        "class lecture:\n",
        "    def topic(self):\n",
        "        print(\"todays class we are discussing about inheritance condept in oops\")\n",
        "\n",
        "    def timing(self):\n",
        "        print(\"timing for todays class is 9 AM IST\")\n",
        "\n",
        "    def end_time(self):\n",
        "        print(\"today i will try to end class bit early\")"
      ]
    },
    {
      "cell_type": "code",
      "execution_count": null,
      "id": "2007141c-1b71-4cd4-9bed-a3cd8d851baa",
      "metadata": {
        "id": "2007141c-1b71-4cd4-9bed-a3cd8d851baa"
      },
      "outputs": [],
      "source": [
        "class student:\n",
        "\n",
        "    def student_details(self):\n",
        "        print(\"this class will give you a student details\")\n",
        "\n",
        "    def timing(self):\n",
        "        print(\"this is a timing fun from student class\")\n"
      ]
    },
    {
      "cell_type": "code",
      "execution_count": null,
      "id": "272860d3-1fac-475b-8c09-0490069224bc",
      "metadata": {
        "id": "272860d3-1fac-475b-8c09-0490069224bc"
      },
      "outputs": [],
      "source": [
        "class teacher(lecture,student):\n",
        "    def details(self):\n",
        "        print(\"this will give you a details about teacher\")"
      ]
    },
    {
      "cell_type": "code",
      "execution_count": null,
      "id": "f4a9ae16-f0e3-4a4a-a003-38773611cd2a",
      "metadata": {
        "id": "f4a9ae16-f0e3-4a4a-a003-38773611cd2a"
      },
      "outputs": [],
      "source": [
        "krish = teacher()"
      ]
    },
    {
      "cell_type": "code",
      "execution_count": null,
      "id": "6dc85f37-219e-4c72-927c-9aebb550fea9",
      "metadata": {
        "id": "6dc85f37-219e-4c72-927c-9aebb550fea9",
        "outputId": "39515119-79a1-40c7-ad43-50c88be1db61"
      },
      "outputs": [
        {
          "name": "stdout",
          "output_type": "stream",
          "text": [
            "timing for todays class is 9 AM IST\n"
          ]
        }
      ],
      "source": [
        "krish.timing()"
      ]
    },
    {
      "cell_type": "code",
      "execution_count": null,
      "id": "8bcbac88-9172-4a31-a191-9c4b9a1c6eac",
      "metadata": {
        "id": "8bcbac88-9172-4a31-a191-9c4b9a1c6eac",
        "outputId": "230298b3-37f7-4da7-ee36-ed5a8e88f6dd"
      },
      "outputs": [
        {
          "name": "stdout",
          "output_type": "stream",
          "text": [
            "this class will give you a student details\n"
          ]
        }
      ],
      "source": [
        "krish.student_details()"
      ]
    },
    {
      "cell_type": "markdown",
      "id": "86b47d4f-860e-4702-83a0-0145887ab41a",
      "metadata": {
        "id": "86b47d4f-860e-4702-83a0-0145887ab41a"
      },
      "source": [
        "Problem 1: Bank Account Create a class representing a bank account with attributes like account number, account holder name, and balance. Implement methods to deposit and withdraw money from the account.\n",
        "\n",
        "Problem 2: Employee Management Create a class representing an employee with attributes like employee ID, name, and salary. Implement methods to calculate the yearly bonus and display employee details.\n",
        "\n",
        "Problem 3: Vehicle Rental Create a class representing a vehicle rental system. Implement methods to rent a vehicle, return a vehicle, and display available vehicles.\n",
        "\n",
        "Problem 4: Library Catalog Create classes representing a library and a book. Implement methods to add books to the library, borrow books, and display available books.\n",
        "\n",
        "Problem 5: Product Inventory Create classes representing a product and an inventory system. Implement methods to add products to the inventory, update product quantity, and display available products.\n",
        "\n",
        "Problem 6: Shape Calculation Create a class representing a shape with attributes like length, width, and height. Implement methods to calculate the area and perimeter of the shape.\n",
        "\n",
        "Problem 7: Student Management Create a class representing a student with attributes like student ID, name, and grades. Implement methods to calculate the average grade and display student details.\n",
        "\n",
        "Problem 8: Email Management Create a class representing an email with attributes like sender, recipient, and subject. Implement methods to send an email and display email details.\n",
        "\n",
        "Problem 9: Social Media Profile Create a class representing a social media profile with attributes like username and posts. Implement methods to add posts, display posts, and search for posts by keyword.\n",
        "\n",
        "Problem 10: ToDo List Create a class representing a ToDo list with attributes like tasks and due dates. Implement methods to add tasks, mark tasks as completed, and display pending tasks."
      ]
    },
    {
      "cell_type": "markdown",
      "source": [
        "problem 1"
      ],
      "metadata": {
        "id": "oVyxsFb0kJTS"
      },
      "id": "oVyxsFb0kJTS"
    },
    {
      "cell_type": "code",
      "execution_count": null,
      "id": "fef1683a-faa4-4d27-a0a6-7a742e512e9b",
      "metadata": {
        "colab": {
          "base_uri": "https://localhost:8080/"
        },
        "id": "fef1683a-faa4-4d27-a0a6-7a742e512e9b",
        "outputId": "dd2575cb-2fe2-4faa-877b-21424ae90ec8"
      },
      "outputs": [
        {
          "output_type": "stream",
          "name": "stdout",
          "text": [
            "Account Number: 12345678\n",
            "Account Holder: John Doe\n",
            "Balance: $1000\n",
            "Deposited $500. New balance: $1500\n",
            "Withdrew $200. New balance: $1300\n",
            "Insufficient funds.\n",
            "Final balance: $1300\n"
          ]
        }
      ],
      "source": [
        "class BankAccount:\n",
        "    def __init__(self, account_number, account_holder_name, initial_balance=0):\n",
        "        self.account_number = account_number\n",
        "        self.account_holder_name = account_holder_name\n",
        "        self.balance = initial_balance\n",
        "\n",
        "    def deposit(self, amount):\n",
        "        \"\"\"Deposit money into the account.\"\"\"\n",
        "        if amount > 0:\n",
        "            self.balance += amount\n",
        "            print(f\"Deposited ${amount}. New balance: ${self.balance}\")\n",
        "        else:\n",
        "            print(\"Deposit amount must be positive.\")\n",
        "\n",
        "    def withdraw(self, amount):\n",
        "        \"\"\"Withdraw money from the account.\"\"\"\n",
        "        if amount > 0:\n",
        "            if amount <= self.balance:\n",
        "                self.balance -= amount\n",
        "                print(f\"Withdrew ${amount}. New balance: ${self.balance}\")\n",
        "            else:\n",
        "                print(\"Insufficient funds.\")\n",
        "        else:\n",
        "            print(\"Withdrawal amount must be positive.\")\n",
        "\n",
        "    def get_balance(self):\n",
        "        \"\"\"Get the current balance of the account.\"\"\"\n",
        "        return self.balance\n",
        "\n",
        "    def __str__(self):\n",
        "        \"\"\"String representation of the bank account.\"\"\"\n",
        "        return (f\"Account Number: {self.account_number}\\n\"\n",
        "                f\"Account Holder: {self.account_holder_name}\\n\"\n",
        "                f\"Balance: ${self.balance}\")\n",
        "\n",
        "# Example usage:\n",
        "account = BankAccount(account_number=\"12345678\", account_holder_name=\"John Doe\", initial_balance=1000)\n",
        "print(account)\n",
        "\n",
        "account.deposit(500)\n",
        "account.withdraw(200)\n",
        "account.withdraw(1500)  # Attempting to withdraw more than the available balance\n",
        "print(f\"Final balance: ${account.get_balance()}\")\n"
      ]
    },
    {
      "cell_type": "markdown",
      "source": [
        "problem 2"
      ],
      "metadata": {
        "id": "cQwZ5-tZkcdh"
      },
      "id": "cQwZ5-tZkcdh"
    },
    {
      "cell_type": "code",
      "source": [
        "class Employee:\n",
        "    def __init__(self, employee_id, name, salary):\n",
        "        self.employee_id = employee_id\n",
        "        self.name = name\n",
        "        self.salary = salary\n",
        "\n",
        "    def calculate_yearly_bonus(self, bonus_percentage):\n",
        "        \"\"\"Calculate the yearly bonus based on a given bonus percentage.\"\"\"\n",
        "        if bonus_percentage > 0:\n",
        "            bonus = (self.salary * bonus_percentage) / 100\n",
        "            return bonus\n",
        "        else:\n",
        "            raise ValueError(\"Bonus percentage must be positive.\")\n",
        "\n",
        "    def display_employee_details(self):\n",
        "        \"\"\"Display details of the employee.\"\"\"\n",
        "        return (f\"Employee ID: {self.employee_id}\\n\"\n",
        "                f\"Name: {self.name}\\n\"\n",
        "                f\"Salary: ${self.salary:,.2f}\")\n",
        "\n",
        "    def __str__(self):\n",
        "        \"\"\"String representation of the employee details.\"\"\"\n",
        "        return self.display_employee_details()\n",
        "\n",
        "# Example usage:\n",
        "employee = Employee(employee_id=\"E12345\", name=\"Alice Smith\", salary=60000)\n",
        "print(employee)\n",
        "\n",
        "# Calculate and display yearly bonus\n",
        "bonus_percentage = 10\n",
        "try:\n",
        "    bonus = employee.calculate_yearly_bonus(bonus_percentage)\n",
        "    print(f\"Yearly Bonus ({bonus_percentage}%): ${bonus:,.2f}\")\n",
        "except ValueError as e:\n",
        "    print(e)\n"
      ],
      "metadata": {
        "colab": {
          "base_uri": "https://localhost:8080/"
        },
        "id": "sbnfF7TSkbke",
        "outputId": "b68b269d-a638-4589-dbc8-715cc413d257"
      },
      "id": "sbnfF7TSkbke",
      "execution_count": null,
      "outputs": [
        {
          "output_type": "stream",
          "name": "stdout",
          "text": [
            "Employee ID: E12345\n",
            "Name: Alice Smith\n",
            "Salary: $60,000.00\n",
            "Yearly Bonus (10%): $6,000.00\n"
          ]
        }
      ]
    },
    {
      "cell_type": "markdown",
      "source": [
        "problem 3"
      ],
      "metadata": {
        "id": "nzUu_l77krLn"
      },
      "id": "nzUu_l77krLn"
    },
    {
      "cell_type": "code",
      "source": [
        "class Vehicle:\n",
        "    def __init__(self, vehicle_id, vehicle_type, is_available=True):\n",
        "        self.vehicle_id = vehicle_id\n",
        "        self.vehicle_type = vehicle_type\n",
        "        self.is_available = is_available\n",
        "\n",
        "    def __str__(self):\n",
        "        return (f\"Vehicle ID: {self.vehicle_id}, \"\n",
        "                f\"Type: {self.vehicle_type}, \"\n",
        "                f\"Available: {'Yes' if self.is_available else 'No'}\")\n",
        "\n",
        "\n",
        "class VehicleRentalSystem:\n",
        "    def __init__(self):\n",
        "        self.vehicles = []\n",
        "\n",
        "    def add_vehicle(self, vehicle):\n",
        "        \"\"\"Add a new vehicle to the rental system.\"\"\"\n",
        "        self.vehicles.append(vehicle)\n",
        "        print(f\"Added {vehicle}\")\n",
        "\n",
        "    def rent_vehicle(self, vehicle_id):\n",
        "        \"\"\"Rent a vehicle by its ID if available.\"\"\"\n",
        "        for vehicle in self.vehicles:\n",
        "            if vehicle.vehicle_id == vehicle_id:\n",
        "                if vehicle.is_available:\n",
        "                    vehicle.is_available = False\n",
        "                    print(f\"Rented {vehicle}\")\n",
        "                    return\n",
        "                else:\n",
        "                    print(\"Vehicle is not available.\")\n",
        "                    return\n",
        "        print(\"Vehicle ID not found.\")\n",
        "\n",
        "    def return_vehicle(self, vehicle_id):\n",
        "        \"\"\"Return a vehicle by its ID.\"\"\"\n",
        "        for vehicle in self.vehicles:\n",
        "            if vehicle.vehicle_id == vehicle_id:\n",
        "                if not vehicle.is_available:\n",
        "                    vehicle.is_available = True\n",
        "                    print(f\"Returned {vehicle}\")\n",
        "                    return\n",
        "                else:\n",
        "                    print(\"Vehicle was not rented.\")\n",
        "                    return\n",
        "        print(\"Vehicle ID not found.\")\n",
        "\n",
        "    def display_available_vehicles(self):\n",
        "        \"\"\"Display all available vehicles.\"\"\"\n",
        "        available_vehicles = [vehicle for vehicle in self.vehicles if vehicle.is_available]\n",
        "        if available_vehicles:\n",
        "            print(\"Available Vehicles:\")\n",
        "            for vehicle in available_vehicles:\n",
        "                print(vehicle)\n",
        "        else:\n",
        "            print(\"No vehicles available.\")\n",
        "\n",
        "# Example usage:\n",
        "rental_system = VehicleRentalSystem()\n",
        "\n",
        "# Adding vehicles\n",
        "rental_system.add_vehicle(Vehicle(vehicle_id=\"V001\", vehicle_type=\"Car\"))\n",
        "rental_system.add_vehicle(Vehicle(vehicle_id=\"V002\", vehicle_type=\"Bike\"))\n",
        "rental_system.add_vehicle(Vehicle(vehicle_id=\"V003\", vehicle_type=\"Truck\"))\n",
        "\n",
        "# Display available vehicles\n",
        "rental_system.display_available_vehicles()\n",
        "\n",
        "# Rent a vehicle\n",
        "rental_system.rent_vehicle(\"V001\")\n",
        "\n",
        "# Display available vehicles after renting\n",
        "rental_system.display_available_vehicles()\n",
        "\n",
        "# Return a vehicle\n",
        "rental_system.return_vehicle(\"V001\")\n",
        "\n",
        "# Display available vehicles after returning\n",
        "rental_system.display_available_vehicles()\n"
      ],
      "metadata": {
        "colab": {
          "base_uri": "https://localhost:8080/"
        },
        "id": "Bqlq2nh-kYqr",
        "outputId": "a9703d4d-33d4-4976-e0c0-e254215a42ce"
      },
      "id": "Bqlq2nh-kYqr",
      "execution_count": null,
      "outputs": [
        {
          "output_type": "stream",
          "name": "stdout",
          "text": [
            "Added Vehicle ID: V001, Type: Car, Available: Yes\n",
            "Added Vehicle ID: V002, Type: Bike, Available: Yes\n",
            "Added Vehicle ID: V003, Type: Truck, Available: Yes\n",
            "Available Vehicles:\n",
            "Vehicle ID: V001, Type: Car, Available: Yes\n",
            "Vehicle ID: V002, Type: Bike, Available: Yes\n",
            "Vehicle ID: V003, Type: Truck, Available: Yes\n",
            "Rented Vehicle ID: V001, Type: Car, Available: No\n",
            "Available Vehicles:\n",
            "Vehicle ID: V002, Type: Bike, Available: Yes\n",
            "Vehicle ID: V003, Type: Truck, Available: Yes\n",
            "Returned Vehicle ID: V001, Type: Car, Available: Yes\n",
            "Available Vehicles:\n",
            "Vehicle ID: V001, Type: Car, Available: Yes\n",
            "Vehicle ID: V002, Type: Bike, Available: Yes\n",
            "Vehicle ID: V003, Type: Truck, Available: Yes\n"
          ]
        }
      ]
    },
    {
      "cell_type": "markdown",
      "source": [
        "problem 4"
      ],
      "metadata": {
        "id": "9mb8tPRHk8De"
      },
      "id": "9mb8tPRHk8De"
    },
    {
      "cell_type": "code",
      "source": [
        "class Book:\n",
        "    def __init__(self, book_id, title, author, is_available=True):\n",
        "        self.book_id = book_id\n",
        "        self.title = title\n",
        "        self.author = author\n",
        "        self.is_available = is_available\n",
        "\n",
        "    def __str__(self):\n",
        "        return (f\"Book ID: {self.book_id}, \"\n",
        "                f\"Title: '{self.title}', \"\n",
        "                f\"Author: {self.author}, \"\n",
        "                f\"Available: {'Yes' if self.is_available else 'No'}\")\n",
        "\n",
        "\n",
        "class Library:\n",
        "    def __init__(self):\n",
        "        self.books = []\n",
        "\n",
        "    def add_book(self, book):\n",
        "        \"\"\"Add a new book to the library.\"\"\"\n",
        "        self.books.append(book)\n",
        "        print(f\"Added {book}\")\n",
        "\n",
        "    def borrow_book(self, book_id):\n",
        "        \"\"\"Borrow a book by its ID if available.\"\"\"\n",
        "        for book in self.books:\n",
        "            if book.book_id == book_id:\n",
        "                if book.is_available:\n",
        "                    book.is_available = False\n",
        "                    print(f\"Borrowed {book}\")\n",
        "                    return\n",
        "                else:\n",
        "                    print(\"Book is currently not available.\")\n",
        "                    return\n",
        "        print(\"Book ID not found.\")\n",
        "\n",
        "    def return_book(self, book_id):\n",
        "        \"\"\"Return a book by its ID.\"\"\"\n",
        "        for book in self.books:\n",
        "            if book.book_id == book_id:\n",
        "                if not book.is_available:\n",
        "                    book.is_available = True\n",
        "                    print(f\"Returned {book}\")\n",
        "                    return\n",
        "                else:\n",
        "                    print(\"Book was not borrowed.\")\n",
        "                    return\n",
        "        print(\"Book ID not found.\")\n",
        "\n",
        "    def display_available_books(self):\n",
        "        \"\"\"Display all available books.\"\"\"\n",
        "        available_books = [book for book in self.books if book.is_available]\n",
        "        if available_books:\n",
        "            print(\"Available Books:\")\n",
        "            for book in available_books:\n",
        "                print(book)\n",
        "        else:\n",
        "            print(\"No books available.\")\n",
        "\n",
        "# Example usage:\n",
        "library = Library()\n",
        "\n",
        "# Adding books\n",
        "library.add_book(Book(book_id=\"B001\", title=\"1984\", author=\"George Orwell\"))\n",
        "library.add_book(Book(book_id=\"B002\", title=\"To Kill a Mockingbird\", author=\"Harper Lee\"))\n",
        "library.add_book(Book(book_id=\"B003\", title=\"The Great Gatsby\", author=\"F. Scott Fitzgerald\"))\n",
        "\n",
        "# Display available books\n",
        "library.display_available_books()\n",
        "\n",
        "# Borrow a book\n",
        "library.borrow_book(\"B001\")\n",
        "\n",
        "# Display available books after borrowing\n",
        "library.display_available_books()\n",
        "\n",
        "# Return a book\n",
        "library.return_book(\"B001\")\n",
        "\n",
        "# Display available books after returning\n",
        "library.display_available_books()\n"
      ],
      "metadata": {
        "colab": {
          "base_uri": "https://localhost:8080/"
        },
        "id": "gdF84vttk7d_",
        "outputId": "b7cbd821-abf4-4e1a-845f-36f919b4e570"
      },
      "id": "gdF84vttk7d_",
      "execution_count": null,
      "outputs": [
        {
          "output_type": "stream",
          "name": "stdout",
          "text": [
            "Added Book ID: B001, Title: '1984', Author: George Orwell, Available: Yes\n",
            "Added Book ID: B002, Title: 'To Kill a Mockingbird', Author: Harper Lee, Available: Yes\n",
            "Added Book ID: B003, Title: 'The Great Gatsby', Author: F. Scott Fitzgerald, Available: Yes\n",
            "Available Books:\n",
            "Book ID: B001, Title: '1984', Author: George Orwell, Available: Yes\n",
            "Book ID: B002, Title: 'To Kill a Mockingbird', Author: Harper Lee, Available: Yes\n",
            "Book ID: B003, Title: 'The Great Gatsby', Author: F. Scott Fitzgerald, Available: Yes\n",
            "Borrowed Book ID: B001, Title: '1984', Author: George Orwell, Available: No\n",
            "Available Books:\n",
            "Book ID: B002, Title: 'To Kill a Mockingbird', Author: Harper Lee, Available: Yes\n",
            "Book ID: B003, Title: 'The Great Gatsby', Author: F. Scott Fitzgerald, Available: Yes\n",
            "Returned Book ID: B001, Title: '1984', Author: George Orwell, Available: Yes\n",
            "Available Books:\n",
            "Book ID: B001, Title: '1984', Author: George Orwell, Available: Yes\n",
            "Book ID: B002, Title: 'To Kill a Mockingbird', Author: Harper Lee, Available: Yes\n",
            "Book ID: B003, Title: 'The Great Gatsby', Author: F. Scott Fitzgerald, Available: Yes\n"
          ]
        }
      ]
    },
    {
      "cell_type": "markdown",
      "source": [
        "problem 5\n"
      ],
      "metadata": {
        "id": "JFyaKx-ClMQf"
      },
      "id": "JFyaKx-ClMQf"
    },
    {
      "cell_type": "code",
      "source": [
        "class Product:\n",
        "    def __init__(self, product_id, name, quantity):\n",
        "        self.product_id = product_id\n",
        "        self.name = name\n",
        "        self.quantity = quantity\n",
        "\n",
        "    def __str__(self):\n",
        "        return (f\"Product ID: {self.product_id}, \"\n",
        "                f\"Name: {self.name}, \"\n",
        "                f\"Quantity: {self.quantity}\")\n",
        "\n",
        "class InventorySystem:\n",
        "    def __init__(self):\n",
        "        self.products = {}\n",
        "\n",
        "    def add_product(self, product):\n",
        "        \"\"\"Add a new product to the inventory or update the quantity if it already exists.\"\"\"\n",
        "        if product.product_id in self.products:\n",
        "            self.products[product.product_id].quantity += product.quantity\n",
        "            print(f\"Updated {self.products[product.product_id]}\")\n",
        "        else:\n",
        "            self.products[product.product_id] = product\n",
        "            print(f\"Added {product}\")\n",
        "\n",
        "    def update_quantity(self, product_id, quantity):\n",
        "        \"\"\"Update the quantity of a product by its ID.\"\"\"\n",
        "        if product_id in self.products:\n",
        "            if quantity >= 0:\n",
        "                self.products[product_id].quantity = quantity\n",
        "                print(f\"Updated {self.products[product_id]}\")\n",
        "            else:\n",
        "                print(\"Quantity cannot be negative.\")\n",
        "        else:\n",
        "            print(\"Product ID not found.\")\n",
        "\n",
        "    def display_available_products(self):\n",
        "        \"\"\"Display all products in the inventory.\"\"\"\n",
        "        if self.products:\n",
        "            print(\"Available Products:\")\n",
        "            for product in self.products.values():\n",
        "                print(product)\n",
        "        else:\n",
        "            print(\"No products available.\")\n",
        "\n",
        "# Example usage:\n",
        "inventory = InventorySystem()\n",
        "\n",
        "# Adding products\n",
        "inventory.add_product(Product(product_id=\"P001\", name=\"Laptop\", quantity=10))\n",
        "inventory.add_product(Product(product_id=\"P002\", name=\"Smartphone\", quantity=25))\n",
        "inventory.add_product(Product(product_id=\"P003\", name=\"Headphones\", quantity=50))\n",
        "\n",
        "# Display available products\n",
        "inventory.display_available_products()\n",
        "\n",
        "# Update product quantity\n",
        "inventory.update_quantity(\"P001\", 15)\n",
        "inventory.update_quantity(\"P002\", 20)\n",
        "inventory.update_quantity(\"P004\", 30)  # Non-existent product ID\n",
        "\n",
        "# Display available products after updating quantities\n",
        "inventory.display_available_products()\n"
      ],
      "metadata": {
        "colab": {
          "base_uri": "https://localhost:8080/"
        },
        "id": "JK6KtQzMk5ao",
        "outputId": "5358e3bf-812e-4fc9-c561-ac6da281422c"
      },
      "id": "JK6KtQzMk5ao",
      "execution_count": null,
      "outputs": [
        {
          "output_type": "stream",
          "name": "stdout",
          "text": [
            "Added Product ID: P001, Name: Laptop, Quantity: 10\n",
            "Added Product ID: P002, Name: Smartphone, Quantity: 25\n",
            "Added Product ID: P003, Name: Headphones, Quantity: 50\n",
            "Available Products:\n",
            "Product ID: P001, Name: Laptop, Quantity: 10\n",
            "Product ID: P002, Name: Smartphone, Quantity: 25\n",
            "Product ID: P003, Name: Headphones, Quantity: 50\n",
            "Updated Product ID: P001, Name: Laptop, Quantity: 15\n",
            "Updated Product ID: P002, Name: Smartphone, Quantity: 20\n",
            "Product ID not found.\n",
            "Available Products:\n",
            "Product ID: P001, Name: Laptop, Quantity: 15\n",
            "Product ID: P002, Name: Smartphone, Quantity: 20\n",
            "Product ID: P003, Name: Headphones, Quantity: 50\n"
          ]
        }
      ]
    },
    {
      "cell_type": "markdown",
      "source": [
        "Problem 6: Shape Calculation Create a class representing a shape with attributes like length, width, and height. Implement methods to calculate the area and perimeter of the shape."
      ],
      "metadata": {
        "id": "lzXB3HFLlZeK"
      },
      "id": "lzXB3HFLlZeK"
    },
    {
      "cell_type": "code",
      "source": [
        "class Shape:\n",
        "    def __init__(self, length, width=None, height=None):\n",
        "        self.length = length\n",
        "        self.width = width\n",
        "        self.height = height\n",
        "\n",
        "    def area(self):\n",
        "        \"\"\"Calculate the area of the shape.\"\"\"\n",
        "        if self.width is not None and self.height is None:\n",
        "            # Rectangle (2D shape)\n",
        "            return self.length * self.width\n",
        "        elif self.width is not None and self.height is not None:\n",
        "            # Cuboid (3D shape)\n",
        "            return self.length * self.width * self.height\n",
        "        else:\n",
        "            raise ValueError(\"Width and height must be provided for area calculation.\")\n",
        "\n",
        "    def perimeter(self):\n",
        "        \"\"\"Calculate the perimeter of the shape.\"\"\"\n",
        "        if self.width is not None and self.height is None:\n",
        "            # Rectangle (2D shape)\n",
        "            return 2 * (self.length + self.width)\n",
        "        else:\n",
        "            raise ValueError(\"Perimeter calculation requires exactly length and width.\")\n",
        "\n",
        "    def volume(self):\n",
        "        \"\"\"Calculate the volume of the shape (only for 3D shapes).\"\"\"\n",
        "        if self.width is not None and self.height is not None:\n",
        "            # Cuboid (3D shape)\n",
        "            return self.length * self.width * self.height\n",
        "        else:\n",
        "            raise ValueError(\"Volume calculation requires length, width, and height.\")\n",
        "\n",
        "    def __str__(self):\n",
        "        \"\"\"String representation of the shape.\"\"\"\n",
        "        if self.width is not None and self.height is None:\n",
        "            return (f\"Rectangle with Length: {self.length}, Width: {self.width}\")\n",
        "        elif self.width is not None and self.height is not None:\n",
        "            return (f\"Cuboid with Length: {self.length}, Width: {self.width}, Height: {self.height}\")\n",
        "        else:\n",
        "            return \"Invalid shape parameters.\"\n",
        "\n",
        "# Example usage:\n",
        "# Rectangle\n",
        "rectangle = Shape(length=10, width=5)\n",
        "print(rectangle)\n",
        "print(f\"Area: {rectangle.area()}\")\n",
        "print(f\"Perimeter: {rectangle.perimeter()}\")\n",
        "\n",
        "# Cuboid\n",
        "cuboid = Shape(length=10, width=5, height=2)\n",
        "print(cuboid)\n",
        "print(f\"Area: {cuboid.area()}\")\n",
        "print(f\"Volume: {cuboid.volume()}\")\n"
      ],
      "metadata": {
        "colab": {
          "base_uri": "https://localhost:8080/"
        },
        "id": "buHT4RzzlYfn",
        "outputId": "b882ef6d-6777-40a2-a786-40ca6869846a"
      },
      "id": "buHT4RzzlYfn",
      "execution_count": null,
      "outputs": [
        {
          "output_type": "stream",
          "name": "stdout",
          "text": [
            "Rectangle with Length: 10, Width: 5\n",
            "Area: 50\n",
            "Perimeter: 30\n",
            "Cuboid with Length: 10, Width: 5, Height: 2\n",
            "Area: 100\n",
            "Volume: 100\n"
          ]
        }
      ]
    },
    {
      "cell_type": "markdown",
      "source": [
        "Problem 7: Student Management Create a class representing a student with attributes like student ID, name, and grades. Implement methods to calculate the average grade and display student details."
      ],
      "metadata": {
        "id": "bi91ufwKlkkK"
      },
      "id": "bi91ufwKlkkK"
    },
    {
      "cell_type": "code",
      "source": [
        "class Student:\n",
        "    def __init__(self, student_id, name, grades):\n",
        "        self.student_id = student_id\n",
        "        self.name = name\n",
        "        self.grades = grades  # List of grades\n",
        "\n",
        "    def average_grade(self):\n",
        "        \"\"\"Calculate the average grade of the student.\"\"\"\n",
        "        if self.grades:\n",
        "            return sum(self.grades) / len(self.grades)\n",
        "        else:\n",
        "            return 0\n",
        "\n",
        "    def display_details(self):\n",
        "        \"\"\"Display the student's details.\"\"\"\n",
        "        avg_grade = self.average_grade()\n",
        "        print(f\"Student ID: {self.student_id}\")\n",
        "        print(f\"Name: {self.name}\")\n",
        "        print(f\"Grades: {', '.join(map(str, self.grades))}\")\n",
        "        print(f\"Average Grade: {avg_grade:.2f}\")\n",
        "\n",
        "# Example usage:\n",
        "student = Student(student_id=\"S001\", name=\"Alice\", grades=[88, 92, 85, 90, 87])\n",
        "\n",
        "# Display student details\n",
        "student.display_details()\n"
      ],
      "metadata": {
        "colab": {
          "base_uri": "https://localhost:8080/"
        },
        "id": "_V_-CYJKljQT",
        "outputId": "8cb5b562-3430-4419-e36a-1a01db286ca5"
      },
      "id": "_V_-CYJKljQT",
      "execution_count": null,
      "outputs": [
        {
          "output_type": "stream",
          "name": "stdout",
          "text": [
            "Student ID: S001\n",
            "Name: Alice\n",
            "Grades: 88, 92, 85, 90, 87\n",
            "Average Grade: 88.40\n"
          ]
        }
      ]
    },
    {
      "cell_type": "markdown",
      "source": [
        "Problem 8: Email Management Create a class representing an email with attributes like sender, recipient, and subject. Implement methods to send an email and display email details."
      ],
      "metadata": {
        "id": "H1HJxuGIlv9s"
      },
      "id": "H1HJxuGIlv9s"
    },
    {
      "cell_type": "code",
      "source": [
        "class Email:\n",
        "    def __init__(self, sender, recipient, subject, body):\n",
        "        self.sender = sender\n",
        "        self.recipient = recipient\n",
        "        self.subject = subject\n",
        "        self.body = body\n",
        "\n",
        "    def send(self):\n",
        "        \"\"\"Simulate sending an email.\"\"\"\n",
        "        # In a real application, this method would use an email server to send the email.\n",
        "        # Here, we just simulate the action.\n",
        "        print(f\"Sending email from {self.sender} to {self.recipient}...\")\n",
        "        print(f\"Subject: {self.subject}\")\n",
        "        print(\"Email sent successfully!\")\n",
        "\n",
        "    def display_details(self):\n",
        "        \"\"\"Display the details of the email.\"\"\"\n",
        "        print(f\"Sender: {self.sender}\")\n",
        "        print(f\"Recipient: {self.recipient}\")\n",
        "        print(f\"Subject: {self.subject}\")\n",
        "        print(f\"Body:\\n{self.body}\")\n",
        "\n",
        "# Example usage:\n",
        "email = Email(\n",
        "    sender=\"pwskills@example.com\",\n",
        "    recipient=\"sai@example.com\",\n",
        "    subject=\"Meeting Reminder\",\n",
        "    body=\"Hi sai,\\n\\nThis is a reminder for our meeting scheduled for tomorrow.\\n\\nBest,\\npwskills\"\n",
        ")\n",
        "\n",
        "# Send the email\n",
        "email.send()\n",
        "\n",
        "# Display email details\n",
        "email.display_details()\n"
      ],
      "metadata": {
        "colab": {
          "base_uri": "https://localhost:8080/"
        },
        "id": "zOxcWk0flusX",
        "outputId": "0adb46cc-b850-4dfc-8a0f-b41f738ae333"
      },
      "id": "zOxcWk0flusX",
      "execution_count": null,
      "outputs": [
        {
          "output_type": "stream",
          "name": "stdout",
          "text": [
            "Sending email from pwskills@example.com to sai@example.com...\n",
            "Subject: Meeting Reminder\n",
            "Email sent successfully!\n",
            "Sender: pwskills@example.com\n",
            "Recipient: sai@example.com\n",
            "Subject: Meeting Reminder\n",
            "Body:\n",
            "Hi sai,\n",
            "\n",
            "This is a reminder for our meeting scheduled for tomorrow.\n",
            "\n",
            "Best,\n",
            "pwskills\n"
          ]
        }
      ]
    },
    {
      "cell_type": "markdown",
      "source": [
        "Problem 9: Social Media Profile Create a class representing a social media profile with attributes like username and posts. Implement methods to add posts, display posts, and search for posts by keyword."
      ],
      "metadata": {
        "id": "bP5qQ6Y0mFzC"
      },
      "id": "bP5qQ6Y0mFzC"
    },
    {
      "cell_type": "code",
      "source": [
        "class SocialMediaProfile:\n",
        "    def __init__(self, username):\n",
        "        self.username = username\n",
        "        self.posts = []\n",
        "\n",
        "    def add_post(self, content):\n",
        "        \"\"\"Add a new post to the profile.\"\"\"\n",
        "        self.posts.append(content)\n",
        "        print(\"Post added successfully!\")\n",
        "\n",
        "    def display_posts(self):\n",
        "        \"\"\"Display all posts from the profile.\"\"\"\n",
        "        if self.posts:\n",
        "            print(f\"Posts by {self.username}:\")\n",
        "            for i, post in enumerate(self.posts, 1):\n",
        "                print(f\"{i}. {post}\")\n",
        "        else:\n",
        "            print(\"No posts available.\")\n",
        "\n",
        "    def search_posts(self, keyword):\n",
        "        \"\"\"Search for posts containing the specified keyword.\"\"\"\n",
        "        found_posts = [post for post in self.posts if keyword.lower() in post.lower()]\n",
        "        if found_posts:\n",
        "            print(f\"Posts containing '{keyword}':\")\n",
        "            for i, post in enumerate(found_posts, 1):\n",
        "                print(f\"{i}. {post}\")\n",
        "        else:\n",
        "            print(f\"No posts found containing '{keyword}'.\")\n",
        "\n",
        "# Example usage:\n",
        "profile = SocialMediaProfile(username=\"john_doe\")\n",
        "\n",
        "# Adding posts\n",
        "profile.add_post(\"Just finished reading a great book on Python!\")\n",
        "profile.add_post(\"Excited about the new features in the latest update.\")\n",
        "profile.add_post(\"Had a fantastic day at the beach!\")\n",
        "\n",
        "# Displaying all posts\n",
        "profile.display_posts()\n",
        "\n",
        "# Searching for posts by keyword\n",
        "profile.search_posts(\"Python\")\n",
        "profile.search_posts(\"update\")\n",
        "profile.search_posts(\"holiday\")\n",
        "\n"
      ],
      "metadata": {
        "colab": {
          "base_uri": "https://localhost:8080/"
        },
        "id": "mvUH_vBDl5uO",
        "outputId": "166b6453-e99b-4952-903a-a78e2c1d90c8"
      },
      "id": "mvUH_vBDl5uO",
      "execution_count": null,
      "outputs": [
        {
          "output_type": "stream",
          "name": "stdout",
          "text": [
            "Post added successfully!\n",
            "Post added successfully!\n",
            "Post added successfully!\n",
            "Posts by john_doe:\n",
            "1. Just finished reading a great book on Python!\n",
            "2. Excited about the new features in the latest update.\n",
            "3. Had a fantastic day at the beach!\n",
            "Posts containing 'Python':\n",
            "1. Just finished reading a great book on Python!\n",
            "Posts containing 'update':\n",
            "1. Excited about the new features in the latest update.\n",
            "No posts found containing 'holiday'.\n"
          ]
        }
      ]
    },
    {
      "cell_type": "markdown",
      "source": [
        "Problem 10: ToDo List Create a class representing a ToDo list with attributes like tasks and due dates. Implement methods to add tasks, mark tasks as completed, and display pending tasks."
      ],
      "metadata": {
        "id": "NGOW8xzgmQ6y"
      },
      "id": "NGOW8xzgmQ6y"
    },
    {
      "cell_type": "code",
      "source": [
        "from datetime import datetime\n",
        "\n",
        "class ToDoList:\n",
        "    def __init__(self):\n",
        "        self.tasks = {}  # Dictionary to store tasks and their due dates\n",
        "        self.completed_tasks = set()  # Set to track completed tasks\n",
        "\n",
        "    def add_task(self, task, due_date):\n",
        "        \"\"\"Add a new task with a due date to the ToDo list.\"\"\"\n",
        "        if task not in self.tasks:\n",
        "            self.tasks[task] = due_date\n",
        "            print(f\"Task '{task}' added with due date {due_date}.\")\n",
        "        else:\n",
        "            print(\"Task already exists.\")\n",
        "\n",
        "    def mark_task_completed(self, task):\n",
        "        \"\"\"Mark a task as completed.\"\"\"\n",
        "        if task in self.tasks:\n",
        "            self.completed_tasks.add(task)\n",
        "            print(f\"Task '{task}' marked as completed.\")\n",
        "        else:\n",
        "            print(\"Task not found.\")\n",
        "\n",
        "    def display_pending_tasks(self):\n",
        "        \"\"\"Display all pending tasks that are not completed.\"\"\"\n",
        "        pending_tasks = {task: due_date for task, due_date in self.tasks.items() if task not in self.completed_tasks}\n",
        "\n",
        "        if pending_tasks:\n",
        "            print(\"Pending Tasks:\")\n",
        "            for task, due_date in pending_tasks.items():\n",
        "                print(f\"Task: {task}, Due Date: {due_date}\")\n",
        "        else:\n",
        "            print(\"No pending tasks.\")\n",
        "\n",
        "# Example usage:\n",
        "todo_list = ToDoList()\n",
        "\n",
        "# Adding tasks\n",
        "todo_list.add_task(\"Complete Python assignment\", \"2024-09-10\")\n",
        "todo_list.add_task(\"Read a book on machine learning\", \"2024-09-15\")\n",
        "todo_list.add_task(\"Buy groceries\", \"2024-09-08\")\n",
        "\n",
        "# Marking a task as completed\n",
        "todo_list.mark_task_completed(\"Complete Python assignment\")\n",
        "\n",
        "# Displaying pending tasks\n",
        "todo_list.display_pending_tasks()\n"
      ],
      "metadata": {
        "colab": {
          "base_uri": "https://localhost:8080/"
        },
        "id": "qhDxU8WkmP2N",
        "outputId": "4c6bbee0-9ca3-4a90-a702-0e326eefd6d8"
      },
      "id": "qhDxU8WkmP2N",
      "execution_count": null,
      "outputs": [
        {
          "output_type": "stream",
          "name": "stdout",
          "text": [
            "Task 'Complete Python assignment' added with due date 2024-09-10.\n",
            "Task 'Read a book on machine learning' added with due date 2024-09-15.\n",
            "Task 'Buy groceries' added with due date 2024-09-08.\n",
            "Task 'Complete Python assignment' marked as completed.\n",
            "Pending Tasks:\n",
            "Task: Read a book on machine learning, Due Date: 2024-09-15\n",
            "Task: Buy groceries, Due Date: 2024-09-08\n"
          ]
        }
      ]
    },
    {
      "cell_type": "code",
      "source": [],
      "metadata": {
        "id": "4U2Up2Q7maIA"
      },
      "id": "4U2Up2Q7maIA",
      "execution_count": null,
      "outputs": []
    }
  ],
  "metadata": {
    "kernelspec": {
      "display_name": "Python 3 (ipykernel)",
      "language": "python",
      "name": "python3"
    },
    "language_info": {
      "codemirror_mode": {
        "name": "ipython",
        "version": 3
      },
      "file_extension": ".py",
      "mimetype": "text/x-python",
      "name": "python",
      "nbconvert_exporter": "python",
      "pygments_lexer": "ipython3",
      "version": "3.10.8"
    },
    "colab": {
      "provenance": []
    }
  },
  "nbformat": 4,
  "nbformat_minor": 5
}